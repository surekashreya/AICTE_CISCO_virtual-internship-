{
 "cells": [
  {
   "cell_type": "code",
   "execution_count": 3,
   "id": "3144df77",
   "metadata": {},
   "outputs": [],
   "source": [
    "import re"
   ]
  },
  {
   "cell_type": "code",
   "execution_count": 5,
   "id": "ee7bc4c1",
   "metadata": {},
   "outputs": [
    {
     "name": "stdout",
     "output_type": "stream",
     "text": [
      "Enter the number of ip address you want to check\n",
      "2\n",
      "Enter the ip4 address\n",
      "192.255.255.0\n",
      "192.123.112.112\n",
      "Ip 192.255.255.0 Valid Ip address\n",
      "Ip 192.123.112.112 Valid Ip address\n"
     ]
    }
   ],
   "source": [
    "regex = \"^((25[0-5]|2[0-4][0-9]|1[0-9][0-9]|[1-9]?[0-9])\\.){3}(25[0-5]|2[0-4][0-9]|1[0-9][0-9]|[1-9]?[0-9])$\"\n",
    "\n",
    " \n",
    "def check(Ip):\n",
    "    Con_list=[]\n",
    " \n",
    "    # pass the regular expression\n",
    "    # and the string in search() method\n",
    "    if(re.search(regex, Ip)):\n",
    "        print(\"Ip\",Ip,\"Valid Ip address\")\n",
    "         \n",
    "    else:\n",
    "        print(\"Ip\",Ip,\"Invalid Ip address\")\n",
    "     \n",
    " \n",
    "# Driver Code\n",
    "if __name__ == '__main__' :\n",
    "    \n",
    "    #input from the user\n",
    "    print(\"Enter the number of ip address you want to check\")\n",
    "    n=int(input())\n",
    "    print(\"Enter the ip4 address\")\n",
    "    Ip=[]\n",
    "    for i in range(n):\n",
    "        Ip.append(input())\n",
    "    \n",
    "     \n",
    "    # calling run function\n",
    "    validate_ip=[check(j)for j in Ip]\n",
    "   "
   ]
  },
  {
   "cell_type": "code",
   "execution_count": 6,
   "id": "3eebdb5d",
   "metadata": {},
   "outputs": [],
   "source": [
    "# conversion of decimal into binary,octal,hexadecimal\n",
    "import ipaddress\n",
    "\n",
    "binary=[]\n",
    "octal=[]\n",
    "hexadecimal=[]\n",
    "for i in Ip:\n",
    "    i=int(ipaddress.ip_address(i))\n",
    "    binary.append(bin(i))\n",
    "    octal.append(oct(i))\n",
    "    hexadecimal.append(hex(i))\n"
   ]
  },
  {
   "cell_type": "code",
   "execution_count": 7,
   "id": "1437e735",
   "metadata": {},
   "outputs": [
    {
     "data": {
      "text/html": [
       "<div>\n",
       "<style scoped>\n",
       "    .dataframe tbody tr th:only-of-type {\n",
       "        vertical-align: middle;\n",
       "    }\n",
       "\n",
       "    .dataframe tbody tr th {\n",
       "        vertical-align: top;\n",
       "    }\n",
       "\n",
       "    .dataframe thead th {\n",
       "        text-align: right;\n",
       "    }\n",
       "</style>\n",
       "<table border=\"1\" class=\"dataframe\">\n",
       "  <thead>\n",
       "    <tr style=\"text-align: right;\">\n",
       "      <th></th>\n",
       "      <th>Decimal</th>\n",
       "      <th>Binary</th>\n",
       "      <th>Octal</th>\n",
       "      <th>Hexadecimal</th>\n",
       "    </tr>\n",
       "  </thead>\n",
       "  <tbody>\n",
       "    <tr>\n",
       "      <th>0</th>\n",
       "      <td>192.255.255.0</td>\n",
       "      <td>0b11000000111111111111111100000000</td>\n",
       "      <td>0o30077777400</td>\n",
       "      <td>0xc0ffff00</td>\n",
       "    </tr>\n",
       "    <tr>\n",
       "      <th>1</th>\n",
       "      <td>192.123.112.112</td>\n",
       "      <td>0b11000000011110110111000001110000</td>\n",
       "      <td>0o30036670160</td>\n",
       "      <td>0xc07b7070</td>\n",
       "    </tr>\n",
       "  </tbody>\n",
       "</table>\n",
       "</div>"
      ],
      "text/plain": [
       "           Decimal                              Binary          Octal  \\\n",
       "0    192.255.255.0  0b11000000111111111111111100000000  0o30077777400   \n",
       "1  192.123.112.112  0b11000000011110110111000001110000  0o30036670160   \n",
       "\n",
       "  Hexadecimal  \n",
       "0  0xc0ffff00  \n",
       "1  0xc07b7070  "
      ]
     },
     "execution_count": 7,
     "metadata": {},
     "output_type": "execute_result"
    }
   ],
   "source": [
    "import pandas as pd\n",
    "  \n",
    "# dictionary of lists \n",
    "dict = {'Decimal': Ip, 'Binary': binary, 'Octal': octal, 'Hexadecimal' : hexadecimal} \n",
    "    \n",
    "df = pd.DataFrame(dict)\n",
    "df"
   ]
  },
  {
   "cell_type": "code",
   "execution_count": 8,
   "id": "4cd1a9f5",
   "metadata": {},
   "outputs": [],
   "source": [
    "df.to_csv('C:/Users/surek/Downloads/conversion.txt', header=None )"
   ]
  },
  {
   "cell_type": "code",
   "execution_count": 9,
   "id": "75928c61",
   "metadata": {},
   "outputs": [
    {
     "name": "stdout",
     "output_type": "stream",
     "text": [
      "The 1 Ip address in Decimal, Binary, Octal, Hexadecimal is : 0,192.255.255.0,0b11000000111111111111111100000000,0o30077777400,0xc0ffff00\n",
      "\n",
      "The 2 Ip address in Decimal, Binary, Octal, Hexadecimal is : 1,192.123.112.112,0b11000000011110110111000001110000,0o30036670160,0xc07b7070\n",
      "\n"
     ]
    }
   ],
   "source": [
    "lines = []\n",
    "with open('C:/Users/surek/Downloads/conversion.txt') as f:\n",
    "    lines = f.readlines()\n",
    "\n",
    "count = 0\n",
    "for line in lines:\n",
    "    count += 1\n",
    "    print(f'The {count} Ip address in Decimal, Binary, Octal, Hexadecimal is : {line}')    "
   ]
  },
  {
   "cell_type": "code",
   "execution_count": null,
   "id": "a782f47a",
   "metadata": {},
   "outputs": [],
   "source": []
  }
 ],
 "metadata": {
  "kernelspec": {
   "display_name": "Python 3 (ipykernel)",
   "language": "python",
   "name": "python3"
  },
  "language_info": {
   "codemirror_mode": {
    "name": "ipython",
    "version": 3
   },
   "file_extension": ".py",
   "mimetype": "text/x-python",
   "name": "python",
   "nbconvert_exporter": "python",
   "pygments_lexer": "ipython3",
   "version": "3.9.12"
  }
 },
 "nbformat": 4,
 "nbformat_minor": 5
}
